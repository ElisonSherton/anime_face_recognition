{
 "cells": [
  {
   "cell_type": "code",
   "execution_count": 9,
   "metadata": {},
   "outputs": [],
   "source": [
    "%reload_ext autoreload\n",
    "%autoreload 2"
   ]
  },
  {
   "cell_type": "code",
   "execution_count": 10,
   "metadata": {},
   "outputs": [],
   "source": [
    "# Import all required libraries\n",
    "from fastai.vision.all import *\n",
    "import albumentations\n",
    "import PIL.Image\n",
    "import random\n",
    "\n",
    "sys.path.append('../scripts')\n",
    "from model import *\n",
    "from get_fv import *"
   ]
  },
  {
   "cell_type": "code",
   "execution_count": 11,
   "metadata": {},
   "outputs": [],
   "source": [
    "# Define the paths to the images, csv with train/valid split info and the trained model\n",
    "images_data_path = \"/home/vinayak/AnimeFaceDataset\"\n",
    "csv_path_name = \"/home/vinayak/AnimeFaceDataset/train_valid_split.csv\"\n",
    "model_path = \"./models/animeFaceRecognitionModel.pth\""
   ]
  },
  {
   "cell_type": "code",
   "execution_count": 15,
   "metadata": {},
   "outputs": [],
   "source": [
    "# Read the dataframe and get all the validation files\n",
    "df = pd.read_csv(csv_path_name)\n",
    "\n",
    "valid_df = df[df.is_valid == 'valid'].reset_index(drop = True).drop(columns = ['is_valid'])\n",
    "all_validation_images = valid_df.images.tolist()"
   ]
  },
  {
   "cell_type": "code",
   "execution_count": 6,
   "metadata": {},
   "outputs": [],
   "source": [
    "# Load the model from trained models\n",
    "model = network()\n",
    "model.load_state_dict(torch.load(model_path));\n",
    "model.eval();"
   ]
  },
  {
   "cell_type": "code",
   "execution_count": 19,
   "metadata": {},
   "outputs": [
    {
     "data": {
      "text/html": [
       "\n",
       "    <div>\n",
       "        <style>\n",
       "            /* Turns off some styling */\n",
       "            progress {\n",
       "                /* gets rid of default border in Firefox and Opera. */\n",
       "                border: none;\n",
       "                /* Needs to be in here for Safari polyfill so background images work as expected. */\n",
       "                background-size: auto;\n",
       "            }\n",
       "            .progress-bar-interrupted, .progress-bar-interrupted::-webkit-progress-bar {\n",
       "                background: #F44336;\n",
       "            }\n",
       "        </style>\n",
       "      <progress value='320' class='' max='320' style='width:300px; height:20px; vertical-align: middle;'></progress>\n",
       "      100.00% [320/320 00:25<00:00 Extracting embeddings...]\n",
       "    </div>\n",
       "    "
      ],
      "text/plain": [
       "<IPython.core.display.HTML object>"
      ]
     },
     "metadata": {},
     "output_type": "display_data"
    }
   ],
   "source": [
    "# Extract feature vectors from all the validation files and store them\n",
    "i2fv = {}\n",
    "\n",
    "for image in progress_bar(all_validation_images, comment = 'Extracting embeddings...'):\n",
    "    ipth = Path(f'{images_data_path}/{image}')\n",
    "    fv = get_fv(ipth, model)\n",
    "    i2fv[image] = fv"
   ]
  },
  {
   "cell_type": "code",
   "execution_count": 23,
   "metadata": {},
   "outputs": [],
   "source": [
    "# Pickle these feature vectors and store them to disk\n",
    "with open('../artefacts/valid_fvs.pkl', 'wb') as f:\n",
    "    pickle.dump(i2fv, f)\n",
    "    f.close()"
   ]
  }
 ],
 "metadata": {
  "kernelspec": {
   "display_name": "Python 3",
   "language": "python",
   "name": "python3"
  },
  "language_info": {
   "codemirror_mode": {
    "name": "ipython",
    "version": 3
   },
   "file_extension": ".py",
   "mimetype": "text/x-python",
   "name": "python",
   "nbconvert_exporter": "python",
   "pygments_lexer": "ipython3",
   "version": "3.8.8"
  },
  "latex_envs": {
   "LaTeX_envs_menu_present": true,
   "autoclose": false,
   "autocomplete": true,
   "bibliofile": "biblio.bib",
   "cite_by": "apalike",
   "current_citInitial": 1,
   "eqLabelWithNumbers": true,
   "eqNumInitial": 1,
   "hotkeys": {
    "equation": "Ctrl-E",
    "itemize": "Ctrl-I"
   },
   "labels_anchors": false,
   "latex_user_defs": false,
   "report_style_numbering": false,
   "user_envs_cfg": false
  }
 },
 "nbformat": 4,
 "nbformat_minor": 4
}
