{
 "cells": [
  {
   "cell_type": "markdown",
   "metadata": {},
   "source": [
    "# Get all the necessary libraries imported"
   ]
  },
  {
   "cell_type": "code",
   "execution_count": 1,
   "metadata": {},
   "outputs": [],
   "source": [
    "from fastai.vision.all import *"
   ]
  },
  {
   "cell_type": "code",
   "execution_count": 2,
   "metadata": {},
   "outputs": [],
   "source": [
    "images_data_path = \"/home/vinayak/AnimeFaceDataset\"\n",
    "train_valid_split_path = \"/home/vinayak/AnimeFaceDataset/train_valid_split.csv\""
   ]
  },
  {
   "cell_type": "markdown",
   "metadata": {},
   "source": [
    "## Create a databunch object"
   ]
  },
  {
   "cell_type": "code",
   "execution_count": 31,
   "metadata": {},
   "outputs": [],
   "source": [
    "df = pd.read_csv(train_valid_split_path)\n",
    "\n",
    "def get_character_items(item):\n",
    "    x = f'{images_data_path}' + '/' + item.images\n",
    "    y = item.images.apply(lambda x: x.split('/')[0])\n",
    "    return (x, y)\n",
    "\n",
    "# Get the indices of validation set images\n",
    "validation_indices = df[df.is_valid == 'valid'].index.values"
   ]
  },
  {
   "cell_type": "code",
   "execution_count": 36,
   "metadata": {},
   "outputs": [],
   "source": [
    "characters = DataBlock.from_columns(\n",
    "                                   # Specify the input and output types\n",
    "                                   blocks = (ImageBlock, CategoryBlock),\n",
    "    \n",
    "                                   # Specify how to read from the datframe which image is train & which is valid\n",
    "                                   get_items = get_character_items,\n",
    "    \n",
    "                                   # Specify the train and validation split indices\n",
    "                                   splitter = IndexSplitter(validation_indices),\n",
    "    \n",
    "                                   # Specify item transformations\n",
    "                                   item_tfms = RandomResizedCrop(300),\n",
    "    \n",
    "                                   # Specify batch transformations\n",
    "                                   batch_tfms = [*aug_transforms(size = 225), \n",
    "                                                 Normalize.from_stats(*imagenet_stats)]\n",
    "                                   )"
   ]
  },
  {
   "cell_type": "code",
   "execution_count": null,
   "metadata": {},
   "outputs": [],
   "source": [
    "def sample"
   ]
  },
  {
   "cell_type": "code",
   "execution_count": 37,
   "metadata": {
    "scrolled": false
   },
   "outputs": [],
   "source": [
    "dls = characters.dataloaders(df)"
   ]
  },
  {
   "cell_type": "code",
   "execution_count": 52,
   "metadata": {},
   "outputs": [
    {
     "data": {
      "text/plain": [
       "960"
      ]
     },
     "execution_count": 52,
     "metadata": {},
     "output_type": "execute_result"
    }
   ],
   "source": []
  },
  {
   "cell_type": "code",
   "execution_count": null,
   "metadata": {},
   "outputs": [],
   "source": []
  },
  {
   "cell_type": "code",
   "execution_count": null,
   "metadata": {},
   "outputs": [],
   "source": []
  }
 ],
 "metadata": {
  "kernelspec": {
   "display_name": "Python 3",
   "language": "python",
   "name": "python3"
  },
  "language_info": {
   "codemirror_mode": {
    "name": "ipython",
    "version": 3
   },
   "file_extension": ".py",
   "mimetype": "text/x-python",
   "name": "python",
   "nbconvert_exporter": "python",
   "pygments_lexer": "ipython3",
   "version": "3.8.8"
  },
  "latex_envs": {
   "LaTeX_envs_menu_present": true,
   "autoclose": false,
   "autocomplete": true,
   "bibliofile": "biblio.bib",
   "cite_by": "apalike",
   "current_citInitial": 1,
   "eqLabelWithNumbers": true,
   "eqNumInitial": 1,
   "hotkeys": {
    "equation": "Ctrl-E",
    "itemize": "Ctrl-I"
   },
   "labels_anchors": false,
   "latex_user_defs": false,
   "report_style_numbering": false,
   "user_envs_cfg": false
  }
 },
 "nbformat": 4,
 "nbformat_minor": 4
}
