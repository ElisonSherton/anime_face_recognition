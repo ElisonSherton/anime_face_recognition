{
 "cells": [
  {
   "cell_type": "code",
   "execution_count": 2,
   "id": "radical-channels",
   "metadata": {},
   "outputs": [],
   "source": [
    "import numpy as np\n",
    "import pandas as pd\n",
    "import pickle"
   ]
  },
  {
   "cell_type": "code",
   "execution_count": 3,
   "id": "reliable-hunger",
   "metadata": {},
   "outputs": [],
   "source": [
    "train_fvs = pickle.load(open(\"/home/vinayak/anime_feature_vectors_train.pkl\", \"rb\"))\n",
    "valid_fvs = pickle.load(open(\"/home/vinayak/anime_feature_vectors_valid.pkl\", \"rb\"))"
   ]
  },
  {
   "cell_type": "code",
   "execution_count": 4,
   "id": "loose-cookie",
   "metadata": {},
   "outputs": [],
   "source": [
    "K1 = 20"
   ]
  },
  {
   "cell_type": "code",
   "execution_count": 5,
   "id": "known-rugby",
   "metadata": {},
   "outputs": [],
   "source": [
    "train_embeddings = np.array(list(train_fvs.values()))\n",
    "valid_embeddings = np.array(list(valid_fvs.values()))"
   ]
  },
  {
   "cell_type": "code",
   "execution_count": 6,
   "id": "intermediate-perfume",
   "metadata": {},
   "outputs": [],
   "source": [
    "all_distances = []\n",
    "\n",
    "# Computation of Distance Matrix\n",
    "for row in train_embeddings:\n",
    "    row_matrix = np.ones_like(train_embeddings) * row\n",
    "    distances = np.sum((train_embeddings - row_matrix) ** 2, axis = 1)\n",
    "    all_distances.append(distances)\n",
    "\n",
    "all_distances = np.array(all_distances)"
   ]
  },
  {
   "cell_type": "code",
   "execution_count": 14,
   "id": "visible-webster",
   "metadata": {},
   "outputs": [],
   "source": [
    "# Get top K1 entries\n",
    "N_pk = all_distances.argsort()[:, :K1]"
   ]
  },
  {
   "cell_type": "markdown",
   "id": "human-bacteria",
   "metadata": {},
   "source": [
    "$$\n",
    "\\mathbb{R}(p, k) = \\{g_i | (g_i \\in \\mathbb{N}(p, k)) \\ and \\ (p  \\in \\mathbb{N}(g_i, k))\\}\n",
    "$$"
   ]
  },
  {
   "cell_type": "code",
   "execution_count": 63,
   "id": "hindu-valve",
   "metadata": {},
   "outputs": [],
   "source": [
    "# Find the relation R such as per the definition above\n",
    "R_pk = []\n",
    "for element_idx, row in enumerate(N_pk):\n",
    "    relation = []\n",
    "    for element in row:\n",
    "        if element_idx in N_pk[element, :]:\n",
    "            relation.append(element)\n",
    "    R_pk.append(relation)"
   ]
  },
  {
   "cell_type": "markdown",
   "id": "loving-excerpt",
   "metadata": {},
   "source": [
    "$$\n",
    "\\mathbb{R^*}(p, k) \\leftarrow \\mathbb{R}(p, k) \\cup \\mathbb{R}(q, \\frac{k}{2})\n",
    "$$\n",
    "\n",
    "\n",
    "$$\n",
    "s.t. | \\mathbb{R}(p, k) \\cap \\mathbb{R}(q, \\frac{k}{2}) | \\ \\ \\ge \\ \\ \\frac{2}{3} |\\mathbb{R}(q, \\frac{k}{2}) |  \n",
    "$$\n",
    "\n",
    "$$\n",
    "\\forall q \\in \\mathbb{R}(p, k)\n",
    "$$"
   ]
  },
  {
   "cell_type": "code",
   "execution_count": 64,
   "id": "thirty-satisfaction",
   "metadata": {},
   "outputs": [],
   "source": [
    "# Find the relation R* as per the definition above\n",
    "R_asterix_pk = []\n",
    "\n",
    "for element_idx, row in enumerate(R_pk):\n",
    "    relation_asterix = row\n",
    "    \n",
    "    for element in row:\n",
    "        q = R_pk[element][:(K1//2)]\n",
    "        \n",
    "        \n",
    "        l1 = len(set(row).union(set(q)))\n",
    "        l2 = 4. * len(set(q)) / 5.\n",
    "        \n",
    "        if l1 >= l2:\n",
    "            relation_asterix = list(set(relation_asterix).union(set(q)))\n",
    "    \n",
    "    R_asterix_pk.append(relation_asterix)"
   ]
  }
 ],
 "metadata": {
  "kernelspec": {
   "display_name": "Python 3",
   "language": "python",
   "name": "python3"
  },
  "language_info": {
   "codemirror_mode": {
    "name": "ipython",
    "version": 3
   },
   "file_extension": ".py",
   "mimetype": "text/x-python",
   "name": "python",
   "nbconvert_exporter": "python",
   "pygments_lexer": "ipython3",
   "version": "3.6.12"
  },
  "latex_envs": {
   "LaTeX_envs_menu_present": true,
   "autoclose": false,
   "autocomplete": true,
   "bibliofile": "biblio.bib",
   "cite_by": "apalike",
   "current_citInitial": 1,
   "eqLabelWithNumbers": true,
   "eqNumInitial": 1,
   "hotkeys": {
    "equation": "Ctrl-E",
    "itemize": "Ctrl-I"
   },
   "labels_anchors": false,
   "latex_user_defs": false,
   "report_style_numbering": false,
   "user_envs_cfg": false
  }
 },
 "nbformat": 4,
 "nbformat_minor": 5
}
