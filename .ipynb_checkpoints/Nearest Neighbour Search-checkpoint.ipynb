{
 "cells": [
  {
   "cell_type": "code",
   "execution_count": 1,
   "id": "demographic-belly",
   "metadata": {},
   "outputs": [],
   "source": [
    "import pickle\n",
    "import torch\n",
    "from torchvision import transforms\n",
    "from siameseModel import *\n",
    "\n",
    "import os\n",
    "import PIL.Image\n",
    "from tqdm.notebook import tqdm\n",
    "from PIL import ImageFile\n",
    "ImageFile.LOAD_TRUNCATED_IMAGES = True"
   ]
  },
  {
   "cell_type": "code",
   "execution_count": 2,
   "id": "disabled-completion",
   "metadata": {},
   "outputs": [],
   "source": [
    "IMAGES_PATH = \"/home/vinayak/cleaned_anime_faces/\"\n",
    "FV_PATH = \"/home/vinayak/anime_feature_vectors.pkl\"\n",
    "MODEL_PATH = \"./enet_model.pth\"\n",
    "IMSIZE = (225, 225)"
   ]
  },
  {
   "cell_type": "code",
   "execution_count": 3,
   "id": "subjective-triangle",
   "metadata": {},
   "outputs": [],
   "source": [
    "model = enet_model()\n",
    "model.load_state_dict(torch.load(MODEL_PATH))\n",
    "model.eval();"
   ]
  },
  {
   "cell_type": "code",
   "execution_count": 4,
   "id": "found-scholarship",
   "metadata": {},
   "outputs": [],
   "source": [
    "def predict_feature_vector(img_pth):\n",
    "    \"\"\"\n",
    "    Given an image path, reads the image, converts it into a tensor, normalizes it based on imagenet stats\n",
    "    and resizes it to (225, 225) standard size; passes it through the model and extracts feature vector\n",
    "    \"\"\"\n",
    "    \n",
    "    # Convert the image to a tensor and normalize it as per Imagenet stats\n",
    "    transforms_ = transforms.Compose([transforms.ToTensor(),\n",
    "                                     transforms.Normalize(mean=[0.485, 0.456, 0.406],\n",
    "                                                          std=[0.229, 0.224, 0.225]),\n",
    "                                    ])\n",
    "    \n",
    "    # Read the image (function)\n",
    "    read_img = lambda x: transforms_(PIL.Image.open(x).resize(IMSIZE).convert('RGB')).unsqueeze(0)\n",
    "    \n",
    "    # Extract feature vectors\n",
    "    fv = model(read_img(img_pth))\n",
    "    \n",
    "    return fv"
   ]
  },
  {
   "cell_type": "code",
   "execution_count": 5,
   "id": "coordinated-contemporary",
   "metadata": {
    "scrolled": true
   },
   "outputs": [],
   "source": [
    "# Get a list of all files in our dataset\n",
    "all_files = []\n",
    "\n",
    "for root, dirs, files in os.walk(IMAGES_PATH):\n",
    "    for item in files:\n",
    "        pth = os.path.join(root, item)\n",
    "        all_files.append(pth)"
   ]
  },
  {
   "cell_type": "code",
   "execution_count": 6,
   "id": "frozen-quilt",
   "metadata": {},
   "outputs": [
    {
     "data": {
      "application/vnd.jupyter.widget-view+json": {
       "model_id": "0000d39f2fb04ef4b1d76ea7027001c0",
       "version_major": 2,
       "version_minor": 0
      },
      "text/plain": [
       "Extracting feature vectors from 1110 images:   0%|          | 0/1110 [00:00<?, ?it/s]"
      ]
     },
     "metadata": {},
     "output_type": "display_data"
    }
   ],
   "source": [
    "# Extract feature vectors and store them in a dictionary\n",
    "feature_vectors = {}\n",
    "\n",
    "for file_ in tqdm(all_files, desc = f\"Extracting feature vectors from {len(all_files)} images\"):\n",
    "    with torch.no_grad():\n",
    "        vector = list(predict_feature_vector(file_).numpy()[0])\n",
    "    feature_vectors[file_] = vector"
   ]
  },
  {
   "cell_type": "code",
   "execution_count": 7,
   "id": "casual-quality",
   "metadata": {},
   "outputs": [],
   "source": [
    "# Save the feature vectors as a pickle file to load them and analyze them later for nearest neighbours\n",
    "with open(FV_PATH, \"wb\") as f:\n",
    "    pickle.dump(feature_vectors, f)\n",
    "    f.close()"
   ]
  }
 ],
 "metadata": {
  "kernelspec": {
   "display_name": "Python 3",
   "language": "python",
   "name": "python3"
  },
  "language_info": {
   "codemirror_mode": {
    "name": "ipython",
    "version": 3
   },
   "file_extension": ".py",
   "mimetype": "text/x-python",
   "name": "python",
   "nbconvert_exporter": "python",
   "pygments_lexer": "ipython3",
   "version": "3.6.12"
  }
 },
 "nbformat": 4,
 "nbformat_minor": 5
}
