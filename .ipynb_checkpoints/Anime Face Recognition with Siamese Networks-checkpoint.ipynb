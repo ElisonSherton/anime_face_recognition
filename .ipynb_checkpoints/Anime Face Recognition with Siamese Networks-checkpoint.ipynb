{
 "cells": [
  {
   "cell_type": "markdown",
   "metadata": {},
   "source": [
    "# Introduction\n",
    "\n",
    "In this notebook, we shall be using Siamese Network in order to build a model to perform the task of face verification for a given character.\n",
    "\n",
    "The paper referred to for performing this experiment is [linked here](https://proceedings.neurips.cc/paper/1993/file/288cc0ff022877bd3df94bc9360b9c5d-Paper.pdf)."
   ]
  },
  {
   "cell_type": "code",
   "execution_count": 1,
   "metadata": {},
   "outputs": [],
   "source": [
    "from siameseDataset import *\n",
    "from loss_func import *\n",
    "from siameseModel import *\n",
    "import torch\n",
    "from torch import nn as nn\n",
    "import pandas as pd\n",
    "torch.autograd.set_detect_anomaly(True)\n",
    "from PIL import ImageFile\n",
    "ImageFile.LOAD_TRUNCATED_IMAGES = True\n",
    "\n",
    "import matplotlib.pyplot as plt\n",
    "%matplotlib inline"
   ]
  },
  {
   "cell_type": "code",
   "execution_count": 2,
   "metadata": {},
   "outputs": [],
   "source": [
    "data_path = \"/home/vinayak/AnimeFaceDset\"\n",
    "model_save_path = \"/home/vinayak/anime_face_recognition/resources/enet_model.pth\"\n",
    "DEVICE = \"cuda\" if torch.cuda.is_available() else \"cpu\""
   ]
  },
  {
   "cell_type": "code",
   "execution_count": 3,
   "metadata": {},
   "outputs": [],
   "source": [
    "partition = {}\n",
    "split_info = pd.read_csv(f\"/home/vinayak/anime_face_recognition/resources/data.csv\")\n",
    "partition[\"train\"] = list(split_info[split_info.label == \"train\"].images)\n",
    "random.shuffle(partition[\"train\"])\n",
    "partition[\"validation\"] = list(split_info[split_info.label == \"valid\"].images)"
   ]
  },
  {
   "cell_type": "code",
   "execution_count": 4,
   "metadata": {},
   "outputs": [],
   "source": [
    "# https://omoindrot.github.io/triplet-loss#strategies-in-online-mining"
   ]
  },
  {
   "cell_type": "code",
   "execution_count": 5,
   "metadata": {},
   "outputs": [],
   "source": [
    "# Create a training dataset and use it to create a training_generator\n",
    "training_set = siameseDataset(partition['train'])\n",
    "training_generator = torch.utils.data.DataLoader(training_set, batch_size = 1)\n",
    "# training_set.show_sample()"
   ]
  },
  {
   "cell_type": "code",
   "execution_count": 6,
   "metadata": {},
   "outputs": [],
   "source": [
    "# Create a training dataset and use it to create a validation_generator\n",
    "validation_set = siameseDataset(partition['validation'], dtype = \"validation\")\n",
    "validation_generator = torch.utils.data.DataLoader(validation_set, batch_size = 1)\n",
    "# validation_set.show_sample()"
   ]
  },
  {
   "cell_type": "code",
   "execution_count": 7,
   "metadata": {},
   "outputs": [],
   "source": [
    "# Create the model and move it to appropriate device (i.e. cuda if gpu is available)\n",
    "model = enet_model().to(DEVICE)"
   ]
  },
  {
   "cell_type": "code",
   "execution_count": 8,
   "metadata": {},
   "outputs": [],
   "source": [
    "# Define the loss function to be used for training\n",
    "loss_func = batchHardTripletLoss(margin = 0.15).to(DEVICE)"
   ]
  },
  {
   "cell_type": "code",
   "execution_count": 9,
   "metadata": {},
   "outputs": [],
   "source": [
    "# Define a learning rate and create an optimizer for training the model \n",
    "# (Adam with default momentum should be good)\n",
    "learning_rate = 1e-4\n",
    "optimizer = torch.optim.Adam(model.parameters(), lr = learning_rate)\n",
    "\n",
    "# Define a learning rate scheduler so that you reduce the learning rate\n",
    "# As you progress across multiple epochs\n",
    "scheduler = torch.optim.lr_scheduler.StepLR(optimizer, step_size = 3, gamma = 0.8)"
   ]
  },
  {
   "cell_type": "code",
   "execution_count": 10,
   "metadata": {
    "scrolled": false
   },
   "outputs": [
    {
     "name": "stdout",
     "output_type": "stream",
     "text": [
      "Epoch 1   \n",
      "Batch Number: 1 | Current Batch Loss: 1.5385 | Average Train Loss: 1.5385 \n",
      "Batch Number: 30| Current Batch Loss: 1.04631| Average Train Loss: 1.09829\n",
      "Batch Number: 60| Current Batch Loss: 0.52496| Average Train Loss: 0.90696\n",
      "---------------------------------------------------------------------------\n",
      "Summary for Epoch 1  --->  Train Loss: 0.90696  --->  Valid Loss: 0.51021\n",
      "\n",
      "Epoch 2   \n",
      "Batch Number: 1 | Current Batch Loss: 0.60355| Average Train Loss: 0.60355\n",
      "Batch Number: 30| Current Batch Loss: 0.11913| Average Train Loss: 0.34642\n",
      "Batch Number: 60| Current Batch Loss: 0.47944| Average Train Loss: 0.33855\n",
      "---------------------------------------------------------------------------\n",
      "Summary for Epoch 2  --->  Train Loss: 0.33855  --->  Valid Loss: 0.29299\n",
      "\n",
      "Epoch 3   \n",
      "Batch Number: 1 | Current Batch Loss: 0.32733| Average Train Loss: 0.32733\n",
      "Batch Number: 30| Current Batch Loss: 0.18117| Average Train Loss: 0.19866\n",
      "Batch Number: 60| Current Batch Loss: 0.55078| Average Train Loss: 0.20224\n",
      "---------------------------------------------------------------------------\n",
      "Summary for Epoch 3  --->  Train Loss: 0.20224  --->  Valid Loss: 0.2394 \n",
      "\n",
      "Epoch 4   \n",
      "Batch Number: 1 | Current Batch Loss: 0.1755 | Average Train Loss: 0.1755 \n",
      "Batch Number: 30| Current Batch Loss: 0.08786| Average Train Loss: 0.17078\n",
      "Batch Number: 60| Current Batch Loss: 0.16673| Average Train Loss: 0.1538 \n",
      "---------------------------------------------------------------------------\n",
      "Summary for Epoch 4  --->  Train Loss: 0.1538   --->  Valid Loss: 0.16645\n",
      "\n",
      "Epoch 5   \n",
      "Batch Number: 1 | Current Batch Loss: 0.27445| Average Train Loss: 0.27445\n",
      "Batch Number: 30| Current Batch Loss: 0.17537| Average Train Loss: 0.15532\n",
      "Batch Number: 60| Current Batch Loss: 0.10443| Average Train Loss: 0.15074\n",
      "---------------------------------------------------------------------------\n",
      "Summary for Epoch 5  --->  Train Loss: 0.15074  --->  Valid Loss: 0.18426\n",
      "\n",
      "Epoch 6   \n",
      "Batch Number: 1 | Current Batch Loss: 0.0585 | Average Train Loss: 0.0585 \n",
      "Batch Number: 30| Current Batch Loss: 0.15256| Average Train Loss: 0.12077\n",
      "Batch Number: 60| Current Batch Loss: 0.51501| Average Train Loss: 0.12305\n",
      "---------------------------------------------------------------------------\n",
      "Summary for Epoch 6  --->  Train Loss: 0.12305  --->  Valid Loss: 0.15046\n",
      "\n",
      "Epoch 7   \n",
      "Batch Number: 1 | Current Batch Loss: 0.06105| Average Train Loss: 0.06105\n",
      "Batch Number: 30| Current Batch Loss: 0.27345| Average Train Loss: 0.13583\n",
      "Batch Number: 60| Current Batch Loss: 0.08867| Average Train Loss: 0.11768\n",
      "---------------------------------------------------------------------------\n",
      "Summary for Epoch 7  --->  Train Loss: 0.11768  --->  Valid Loss: 0.14943\n",
      "\n",
      "Epoch 8   \n",
      "Batch Number: 1 | Current Batch Loss: 0.1082 | Average Train Loss: 0.1082 \n",
      "Batch Number: 30| Current Batch Loss: 0.0526 | Average Train Loss: 0.0864 \n",
      "Batch Number: 60| Current Batch Loss: 0.21286| Average Train Loss: 0.0973 \n",
      "---------------------------------------------------------------------------\n",
      "Summary for Epoch 8  --->  Train Loss: 0.0973   --->  Valid Loss: 0.19392\n",
      "\n",
      "Epoch 9   \n",
      "Batch Number: 1 | Current Batch Loss: 0.10378| Average Train Loss: 0.10378\n",
      "Batch Number: 30| Current Batch Loss: 0.13686| Average Train Loss: 0.07786\n",
      "Batch Number: 60| Current Batch Loss: 0.43082| Average Train Loss: 0.10233\n",
      "---------------------------------------------------------------------------\n",
      "Summary for Epoch 9  --->  Train Loss: 0.10233  --->  Valid Loss: 0.16431\n",
      "\n",
      "Epoch 10  \n",
      "Batch Number: 1 | Current Batch Loss: 0.20106| Average Train Loss: 0.20106\n",
      "Batch Number: 30| Current Batch Loss: 0.05145| Average Train Loss: 0.06318\n",
      "Batch Number: 60| Current Batch Loss: 0.09351| Average Train Loss: 0.06919\n",
      "---------------------------------------------------------------------------\n",
      "Summary for Epoch 10 --->  Train Loss: 0.06919  --->  Valid Loss: 0.18541\n",
      "\n",
      "Epoch 11  \n",
      "Batch Number: 1 | Current Batch Loss: 0.04145| Average Train Loss: 0.04145\n",
      "Batch Number: 30| Current Batch Loss: 0.04746| Average Train Loss: 0.0517 \n",
      "Batch Number: 60| Current Batch Loss: 0.01335| Average Train Loss: 0.07846\n",
      "---------------------------------------------------------------------------\n",
      "Summary for Epoch 11 --->  Train Loss: 0.07846  --->  Valid Loss: 0.15675\n",
      "\n",
      "Epoch 12  \n",
      "Batch Number: 1 | Current Batch Loss: 0.0231 | Average Train Loss: 0.0231 \n",
      "Batch Number: 30| Current Batch Loss: 0.0    | Average Train Loss: 0.0716 \n",
      "Batch Number: 60| Current Batch Loss: 0.1499 | Average Train Loss: 0.07627\n",
      "---------------------------------------------------------------------------\n",
      "Summary for Epoch 12 --->  Train Loss: 0.07627  --->  Valid Loss: 0.13363\n",
      "\n",
      "Epoch 13  \n",
      "Batch Number: 1 | Current Batch Loss: 0.01651| Average Train Loss: 0.01651\n",
      "Batch Number: 30| Current Batch Loss: 0.07115| Average Train Loss: 0.06891\n",
      "Batch Number: 60| Current Batch Loss: 0.03589| Average Train Loss: 0.07096\n",
      "---------------------------------------------------------------------------\n",
      "Summary for Epoch 13 --->  Train Loss: 0.07096  --->  Valid Loss: 0.16417\n",
      "\n",
      "Epoch 14  \n",
      "Batch Number: 1 | Current Batch Loss: 0.082  | Average Train Loss: 0.082  \n",
      "Batch Number: 30| Current Batch Loss: 0.00907| Average Train Loss: 0.05082\n",
      "Batch Number: 60| Current Batch Loss: 0.02649| Average Train Loss: 0.05461\n",
      "---------------------------------------------------------------------------\n",
      "Summary for Epoch 14 --->  Train Loss: 0.05461  --->  Valid Loss: 0.15114\n",
      "\n",
      "Epoch 15  \n",
      "Batch Number: 1 | Current Batch Loss: 0.0491 | Average Train Loss: 0.0491 \n",
      "Batch Number: 30| Current Batch Loss: 0.0225 | Average Train Loss: 0.04721\n",
      "Batch Number: 60| Current Batch Loss: 0.09385| Average Train Loss: 0.04195\n",
      "---------------------------------------------------------------------------\n",
      "Summary for Epoch 15 --->  Train Loss: 0.04195  --->  Valid Loss: 0.13094\n",
      "\n",
      "Epoch 16  \n",
      "Batch Number: 1 | Current Batch Loss: 0.0    | Average Train Loss: 0.0    \n",
      "Batch Number: 30| Current Batch Loss: 0.03628| Average Train Loss: 0.0528 \n",
      "Batch Number: 60| Current Batch Loss: 0.0    | Average Train Loss: 0.05038\n",
      "---------------------------------------------------------------------------\n",
      "Summary for Epoch 16 --->  Train Loss: 0.05038  --->  Valid Loss: 0.12088\n",
      "\n",
      "Epoch 17  \n",
      "Batch Number: 1 | Current Batch Loss: 0.01469| Average Train Loss: 0.01469\n",
      "Batch Number: 30| Current Batch Loss: 0.13278| Average Train Loss: 0.046  \n",
      "Batch Number: 60| Current Batch Loss: 0.0    | Average Train Loss: 0.04986\n",
      "---------------------------------------------------------------------------\n",
      "Summary for Epoch 17 --->  Train Loss: 0.04986  --->  Valid Loss: 0.11881\n",
      "\n",
      "Epoch 18  \n",
      "Batch Number: 1 | Current Batch Loss: 0.0957 | Average Train Loss: 0.0957 \n",
      "Batch Number: 30| Current Batch Loss: 0.04011| Average Train Loss: 0.07242\n",
      "Batch Number: 60| Current Batch Loss: 0.0    | Average Train Loss: 0.05706\n",
      "---------------------------------------------------------------------------\n",
      "Summary for Epoch 18 --->  Train Loss: 0.05706  --->  Valid Loss: 0.14488\n",
      "\n",
      "Epoch 19  \n",
      "Batch Number: 1 | Current Batch Loss: 0.01735| Average Train Loss: 0.01735\n",
      "Batch Number: 30| Current Batch Loss: 0.00114| Average Train Loss: 0.03583\n",
      "Batch Number: 60| Current Batch Loss: 0.0    | Average Train Loss: 0.0412 \n",
      "---------------------------------------------------------------------------\n",
      "Summary for Epoch 19 --->  Train Loss: 0.0412   --->  Valid Loss: 0.15702\n",
      "\n",
      "Epoch 20  \n",
      "Batch Number: 1 | Current Batch Loss: 0.00522| Average Train Loss: 0.00522\n",
      "Batch Number: 30| Current Batch Loss: 0.13773| Average Train Loss: 0.04238\n",
      "Batch Number: 60| Current Batch Loss: 0.01455| Average Train Loss: 0.03602\n",
      "---------------------------------------------------------------------------\n",
      "Summary for Epoch 20 --->  Train Loss: 0.03602  --->  Valid Loss: 0.12519\n",
      "\n",
      "Epoch 21  \n",
      "Batch Number: 1 | Current Batch Loss: 0.0    | Average Train Loss: 0.0    \n",
      "Batch Number: 30| Current Batch Loss: 0.00023| Average Train Loss: 0.0559 \n",
      "Batch Number: 60| Current Batch Loss: 0.12147| Average Train Loss: 0.04728\n",
      "---------------------------------------------------------------------------\n",
      "Summary for Epoch 21 --->  Train Loss: 0.04728  --->  Valid Loss: 0.11055\n",
      "\n",
      "Epoch 22  \n",
      "Batch Number: 1 | Current Batch Loss: 0.0    | Average Train Loss: 0.0    \n"
     ]
    },
    {
     "name": "stdout",
     "output_type": "stream",
     "text": [
      "Batch Number: 30| Current Batch Loss: 0.0    | Average Train Loss: 0.04296\n",
      "Batch Number: 60| Current Batch Loss: 0.19021| Average Train Loss: 0.04378\n",
      "---------------------------------------------------------------------------\n",
      "Summary for Epoch 22 --->  Train Loss: 0.04378  --->  Valid Loss: 0.10771\n",
      "\n",
      "Epoch 23  \n",
      "Batch Number: 1 | Current Batch Loss: 0.01068| Average Train Loss: 0.01068\n",
      "Batch Number: 30| Current Batch Loss: 0.0156 | Average Train Loss: 0.02127\n",
      "Batch Number: 60| Current Batch Loss: 0.02132| Average Train Loss: 0.03429\n",
      "---------------------------------------------------------------------------\n",
      "Summary for Epoch 23 --->  Train Loss: 0.03429  --->  Valid Loss: 0.10416\n",
      "\n",
      "Epoch 24  \n",
      "Batch Number: 1 | Current Batch Loss: 0.0    | Average Train Loss: 0.0    \n",
      "Batch Number: 30| Current Batch Loss: 0.09312| Average Train Loss: 0.04021\n",
      "Batch Number: 60| Current Batch Loss: 0.08569| Average Train Loss: 0.03705\n",
      "---------------------------------------------------------------------------\n",
      "Summary for Epoch 24 --->  Train Loss: 0.03705  --->  Valid Loss: 0.15325\n",
      "\n",
      "Epoch 25  \n",
      "Batch Number: 1 | Current Batch Loss: 0.02208| Average Train Loss: 0.02208\n",
      "Batch Number: 30| Current Batch Loss: 0.14067| Average Train Loss: 0.03731\n",
      "Batch Number: 60| Current Batch Loss: 0.03714| Average Train Loss: 0.03348\n",
      "---------------------------------------------------------------------------\n",
      "Summary for Epoch 25 --->  Train Loss: 0.03348  --->  Valid Loss: 0.11367\n",
      "\n"
     ]
    }
   ],
   "source": [
    "# Training Loop\n",
    "train_losses = []\n",
    "valid_losses = []\n",
    "\n",
    "n_epochs = 25\n",
    "n_train_batches = len(training_generator)\n",
    "n_valid_batches = len(validation_generator)\n",
    "PRINT_PROGRESS = 30\n",
    "\n",
    "round_off = lambda x: round(x, 5)\n",
    "\n",
    "# Loop over number of epochs\n",
    "for epch in range(n_epochs):\n",
    "    \n",
    "    print(f\"Epoch {(epch + 1):<4}\")\n",
    "    # Initialize the loss values to zero at the beginning of the epoch\n",
    "    train_loss = 0.\n",
    "    valid_loss = 0.\n",
    "\n",
    "    # Train for an epoch\n",
    "    for idx, (images, labels) in enumerate(training_generator, start = 1):\n",
    "        images, labels = images[0].to(DEVICE), labels.to(DEVICE)\n",
    "        feature_vectors = model(images)\n",
    "        loss = loss_func(feature_vectors, labels)\n",
    "        loss.backward()\n",
    "        optimizer.step()\n",
    "        \n",
    "        batch_loss = round_off(loss.item())\n",
    "        train_loss += batch_loss\n",
    "        \n",
    "        if (idx % PRINT_PROGRESS == 0) or (idx == 1) or (idx == n_train_batches):\n",
    "            print(f\"Batch Number: {idx:<2}| Current Batch Loss: {batch_loss:<7}| Average Train Loss: {round_off(train_loss / idx):<7}\")\n",
    "    \n",
    "    # Validate after the trained epoch\n",
    "    for images, labels in validation_generator:\n",
    "        images, labels = images[0].to(DEVICE), labels.to(DEVICE)\n",
    "        with torch.no_grad():\n",
    "            feature_vectors = model(images)\n",
    "            loss = loss_func(feature_vectors, labels)\n",
    "            valid_loss += round_off(loss.item())\n",
    "    \n",
    "    # Reset the states of training and validation sets\n",
    "    validation_set.characters_selected = {k:0 for k in validation_set.classes}\n",
    "    validation_set.images_selected = {k:False for k in validation_set.images}\n",
    "    \n",
    "    training_set.characters_selected = {k:0 for k in training_set.classes}\n",
    "    training_set.images_selected = {k:False for k in training_set.images}\n",
    "    \n",
    "    # Average the train and valid losses across all batches and save it to our array\n",
    "    train_loss = round_off(train_loss / n_train_batches)\n",
    "    valid_loss = round_off(valid_loss / n_valid_batches)\n",
    "    \n",
    "    print(\"\".join([\"-\"]*75))\n",
    "    print(f\"Summary for Epoch {(epch + 1):<2} --->  Train Loss: {train_loss:<7}  --->  Valid Loss: {valid_loss:<7}\")\n",
    "    print()\n",
    "    \n",
    "    train_losses.append(train_loss)\n",
    "    valid_losses.append(valid_loss)\n",
    "    \n",
    "    # Check the valid loss and reduce learning rate as per the need\n",
    "    scheduler.step()"
   ]
  },
  {
   "cell_type": "code",
   "execution_count": 11,
   "metadata": {},
   "outputs": [],
   "source": [
    "# Save the losses to a loss_history.csv file on the disk\n",
    "history = pd.DataFrame({\"train_loss\": train_losses, \"valid_loss\":valid_losses})\n",
    "history.to_csv(\"loss_history.csv\", index = False)"
   ]
  },
  {
   "cell_type": "code",
   "execution_count": 12,
   "metadata": {},
   "outputs": [
    {
     "data": {
      "image/png": "[encoded data removed]",
      "text/plain": [
       "<Figure size 432x288 with 1 Axes>"
      ]
     },
     "metadata": {
      "needs_background": "light"
     },
     "output_type": "display_data"
    }
   ],
   "source": [
    "# Plot the loss curve obtained when training\n",
    "ax = history.plot();\n",
    "ax.set_xlabel(\"Epoch Number\")\n",
    "ax.set_ylabel(\"Batch Hard Triplet Loss\");"
   ]
  },
  {
   "cell_type": "code",
   "execution_count": 13,
   "metadata": {},
   "outputs": [],
   "source": [
    "# Save the trained model to our disk\n",
    "torch.save(model.state_dict(), model_save_path)"
   ]
  },
  {
   "cell_type": "code",
   "execution_count": 14,
   "metadata": {},
   "outputs": [
    {
     "data": {
      "text/plain": [
       "{'step_size': 3,\n",
       " 'gamma': 0.8,\n",
       " 'base_lrs': [0.0001],\n",
       " 'last_epoch': 25,\n",
       " '_step_count': 26,\n",
       " '_get_lr_called_within_step': False,\n",
       " '_last_lr': [1.677721600000001e-05]}"
      ]
     },
     "execution_count": 14,
     "metadata": {},
     "output_type": "execute_result"
    }
   ],
   "source": [
    "# Look at the progresion of learning rates\n",
    "scheduler.state_dict()"
   ]
  }
 ],
 "metadata": {
  "kernelspec": {
   "display_name": "Python 3",
   "language": "python",
   "name": "python3"
  },
  "language_info": {
   "codemirror_mode": {
    "name": "ipython",
    "version": 3
   },
   "file_extension": ".py",
   "mimetype": "text/x-python",
   "name": "python",
   "nbconvert_exporter": "python",
   "pygments_lexer": "ipython3",
   "version": "3.6.12"
  }
 },
 "nbformat": 4,
 "nbformat_minor": 2
}
