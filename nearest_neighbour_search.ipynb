{
 "cells": [
  {
   "cell_type": "markdown",
   "id": "local-avenue",
   "metadata": {},
   "source": [
    "## Character Sampling Math\n",
    "\n",
    "40 characters -> 24 images\n",
    "\n",
    "4 characters per batch, 4 images per character per batch\n",
    "\n",
    "960 train images\n",
    "\n",
    "960 / 16 = 60 batches to be sampled\n",
    "\n",
    "Each batch  -> 4 characters -> 60 * 4 = 240 total character samplings\n",
    "\n",
    "320 validation images\n",
    "\n",
    "320 / 40 -> 8 times per character is sampled"
   ]
  },
  {
   "cell_type": "code",
   "execution_count": null,
   "id": "lyric-terrace",
   "metadata": {},
   "outputs": [],
   "source": []
  }
 ],
 "metadata": {
  "kernelspec": {
   "display_name": "Python 3",
   "language": "python",
   "name": "python3"
  },
  "language_info": {
   "codemirror_mode": {
    "name": "ipython",
    "version": 3
   },
   "file_extension": ".py",
   "mimetype": "text/x-python",
   "name": "python",
   "nbconvert_exporter": "python",
   "pygments_lexer": "ipython3",
   "version": "3.6.12"
  }
 },
 "nbformat": 4,
 "nbformat_minor": 5
}
